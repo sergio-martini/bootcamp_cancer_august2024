{
  "cells": [
    {
      "cell_type": "markdown",
      "metadata": {
        "id": "view-in-github",
        "colab_type": "text"
      },
      "source": [
        "<a href=\"https://colab.research.google.com/github/sergio-martini/bootcamp_cancer_august2024/blob/main/Yotutube_WordVectors.ipynb\" target=\"_parent\"><img src=\"https://colab.research.google.com/assets/colab-badge.svg\" alt=\"Open In Colab\"/></a>"
      ]
    },
    {
      "cell_type": "code",
      "source": [
        "# https://radimrehurek.com/gensim/auto_examples/tutorials/run_word2vec.html\n",
        "# https://radimrehurek.com/gensim/models/word2vec.html\n",
        "# https://analyticsindiamag.com/word2vec-vs-glove-a-comparative-guide-to-word-embedding-techniques/"
      ],
      "metadata": {
        "id": "4DhgUmJAPdbc"
      },
      "execution_count": null,
      "outputs": []
    },
    {
      "cell_type": "markdown",
      "source": [
        "https://medium.com/intelligentmachines/word-embedding-and-one-hot-encoding-ad17b4bbe111"
      ],
      "metadata": {
        "id": "mpkwvwH5g66R"
      }
    },
    {
      "cell_type": "markdown",
      "source": [
        "<h3> Agenda </h3>\n",
        "\n",
        "*   Use Pretrained Word Vectors\n",
        "*   Use word vecotrs as feature for classification\n",
        "\n",
        "\n",
        "\n",
        "\n",
        "\n",
        "\n",
        "\n"
      ],
      "metadata": {
        "id": "Ain7XVepPiUf"
      }
    },
    {
      "cell_type": "code",
      "execution_count": 1,
      "metadata": {
        "id": "I6T_5ubcd3t3"
      },
      "outputs": [],
      "source": [
        "!pip install --upgrade gensim -q\n",
        "!pip install matplotlib -q"
      ]
    },
    {
      "cell_type": "code",
      "execution_count": 1,
      "metadata": {
        "scrolled": true,
        "id": "9XaQFwH6d3uF"
      },
      "outputs": [],
      "source": [
        "import gensim\n",
        "from gensim.models import word2vec\n",
        "from gensim.models.word2vec import Word2Vec\n",
        "import numpy as np\n",
        "import matplotlib.pyplot as plt\n",
        "import pandas as pd\n",
        "import spacy\n",
        "import string"
      ]
    },
    {
      "cell_type": "code",
      "source": [
        "gensim.__version__"
      ],
      "metadata": {
        "colab": {
          "base_uri": "https://localhost:8080/",
          "height": 36
        },
        "id": "Ar_X4gP6IhSk",
        "outputId": "a2d4b326-fb07-4ec8-e736-22488cf2eec8"
      },
      "execution_count": 2,
      "outputs": [
        {
          "output_type": "execute_result",
          "data": {
            "text/plain": [
              "'4.3.3'"
            ],
            "application/vnd.google.colaboratory.intrinsic+json": {
              "type": "string"
            }
          },
          "metadata": {},
          "execution_count": 2
        }
      ]
    },
    {
      "cell_type": "code",
      "source": [
        "np.random.seed(42)"
      ],
      "metadata": {
        "id": "a98GdugAAH35"
      },
      "execution_count": 3,
      "outputs": []
    },
    {
      "cell_type": "code",
      "source": [
        "# from google.colab import drive\n",
        "# drive.mount('/content/drive')"
      ],
      "metadata": {
        "id": "Iul5f_doNzHC"
      },
      "execution_count": null,
      "outputs": []
    },
    {
      "cell_type": "markdown",
      "source": [
        "Use Pretrained Word Vectors"
      ],
      "metadata": {
        "id": "gW_0s2ZQQtDB"
      }
    },
    {
      "cell_type": "code",
      "source": [
        "import gensim.downloader as api\n",
        "print(list(gensim.downloader.info()['models'].keys()))"
      ],
      "metadata": {
        "colab": {
          "base_uri": "https://localhost:8080/"
        },
        "id": "4Yt8fZ6pQp4j",
        "outputId": "470df9ae-a236-410b-a82c-df27a74470c3"
      },
      "execution_count": 4,
      "outputs": [
        {
          "output_type": "stream",
          "name": "stdout",
          "text": [
            "['fasttext-wiki-news-subwords-300', 'conceptnet-numberbatch-17-06-300', 'word2vec-ruscorpora-300', 'word2vec-google-news-300', 'glove-wiki-gigaword-50', 'glove-wiki-gigaword-100', 'glove-wiki-gigaword-200', 'glove-wiki-gigaword-300', 'glove-twitter-25', 'glove-twitter-50', 'glove-twitter-100', 'glove-twitter-200', '__testing_word2vec-matrix-synopsis']\n"
          ]
        }
      ]
    },
    {
      "cell_type": "code",
      "source": [
        "#wv = api.load('glove-twitter-50')"
      ],
      "metadata": {
        "id": "u8_e1FlsOxUA",
        "outputId": "70fae070-b043-47e3-c346-336815d5670c",
        "colab": {
          "base_uri": "https://localhost:8080/"
        }
      },
      "execution_count": 6,
      "outputs": [
        {
          "output_type": "stream",
          "name": "stdout",
          "text": [
            "[==================================================] 100.0% 199.5/199.5MB downloaded\n"
          ]
        }
      ]
    },
    {
      "cell_type": "code",
      "source": [
        "type(wv)"
      ],
      "metadata": {
        "colab": {
          "base_uri": "https://localhost:8080/",
          "height": 141
        },
        "id": "3UT0rA32iHFd",
        "outputId": "d5273abd-64c6-4eb0-ecef-4049801d6b4f"
      },
      "execution_count": 5,
      "outputs": [
        {
          "output_type": "error",
          "ename": "NameError",
          "evalue": "name 'wv' is not defined",
          "traceback": [
            "\u001b[0;31m---------------------------------------------------------------------------\u001b[0m",
            "\u001b[0;31mNameError\u001b[0m                                 Traceback (most recent call last)",
            "\u001b[0;32m<ipython-input-5-16225ed7ca7f>\u001b[0m in \u001b[0;36m<cell line: 1>\u001b[0;34m()\u001b[0m\n\u001b[0;32m----> 1\u001b[0;31m \u001b[0mtype\u001b[0m\u001b[0;34m(\u001b[0m\u001b[0mwv\u001b[0m\u001b[0;34m)\u001b[0m\u001b[0;34m\u001b[0m\u001b[0;34m\u001b[0m\u001b[0m\n\u001b[0m",
            "\u001b[0;31mNameError\u001b[0m: name 'wv' is not defined"
          ]
        }
      ]
    },
    {
      "cell_type": "code",
      "source": [
        " wv = api.load('word2vec-google-news-300')\n",
        "# wv.save('/content/drive/MyDrive/Content Creation/Youtube Tutorials/vectors.kv')"
      ],
      "metadata": {
        "id": "-_yq3wTaQzSO",
        "outputId": "96f79e26-8ba5-4938-9c02-eb65b38e3a1e",
        "colab": {
          "base_uri": "https://localhost:8080/"
        }
      },
      "execution_count": 6,
      "outputs": [
        {
          "output_type": "stream",
          "name": "stdout",
          "text": [
            "[==================================================] 100.0% 1662.8/1662.8MB downloaded\n"
          ]
        }
      ]
    },
    {
      "cell_type": "code",
      "source": [
        "wv['apple']"
      ],
      "metadata": {
        "colab": {
          "base_uri": "https://localhost:8080/"
        },
        "id": "gZObUSlhH1Mt",
        "outputId": "cf6c0b31-bbb0-4d3c-9c54-a4467dbfb330"
      },
      "execution_count": 7,
      "outputs": [
        {
          "output_type": "execute_result",
          "data": {
            "text/plain": [
              "array([-0.06445312, -0.16015625, -0.01208496,  0.13476562, -0.22949219,\n",
              "        0.16210938,  0.3046875 , -0.1796875 , -0.12109375,  0.25390625,\n",
              "       -0.01428223, -0.06396484, -0.08056641, -0.05688477, -0.19628906,\n",
              "        0.2890625 , -0.05151367,  0.14257812, -0.10498047, -0.04736328,\n",
              "       -0.34765625,  0.35742188,  0.265625  ,  0.00188446, -0.01586914,\n",
              "        0.00195312, -0.35546875,  0.22167969,  0.05761719,  0.15917969,\n",
              "        0.08691406, -0.0267334 , -0.04785156,  0.23925781, -0.05981445,\n",
              "        0.0378418 ,  0.17382812, -0.41796875,  0.2890625 ,  0.32617188,\n",
              "        0.02429199, -0.01647949, -0.06494141, -0.08886719,  0.07666016,\n",
              "       -0.15136719,  0.05249023, -0.04199219, -0.05419922,  0.00108337,\n",
              "       -0.20117188,  0.12304688,  0.09228516,  0.10449219, -0.00408936,\n",
              "       -0.04199219,  0.01409912, -0.02111816, -0.13476562, -0.24316406,\n",
              "        0.16015625, -0.06689453, -0.08984375, -0.07177734, -0.00595093,\n",
              "       -0.00482178, -0.00089264, -0.30664062, -0.0625    ,  0.07958984,\n",
              "       -0.00909424, -0.04492188,  0.09960938, -0.33398438, -0.3984375 ,\n",
              "        0.05541992, -0.06689453, -0.04467773,  0.11767578, -0.13964844,\n",
              "       -0.26367188,  0.17480469, -0.17382812, -0.40625   , -0.06738281,\n",
              "       -0.07617188,  0.09423828,  0.20996094, -0.16308594, -0.08691406,\n",
              "       -0.0534668 , -0.10351562, -0.07617188, -0.11083984, -0.03515625,\n",
              "       -0.14941406,  0.0378418 ,  0.38671875,  0.14160156, -0.2890625 ,\n",
              "       -0.16894531, -0.140625  , -0.04174805,  0.22753906,  0.24023438,\n",
              "       -0.01599121, -0.06787109,  0.21875   , -0.42382812, -0.5625    ,\n",
              "       -0.49414062, -0.3359375 ,  0.13378906,  0.01141357,  0.13671875,\n",
              "        0.0324707 ,  0.06835938, -0.27539062, -0.15917969,  0.00121307,\n",
              "        0.01208496, -0.0039978 ,  0.00442505, -0.04541016,  0.08642578,\n",
              "        0.09960938, -0.04296875, -0.11328125,  0.13867188,  0.41796875,\n",
              "       -0.28320312, -0.07373047, -0.11425781,  0.08691406, -0.02148438,\n",
              "        0.328125  , -0.07373047, -0.01348877,  0.17773438, -0.02624512,\n",
              "        0.13378906, -0.11132812, -0.12792969, -0.12792969,  0.18945312,\n",
              "       -0.13867188,  0.29882812, -0.07714844, -0.37695312, -0.10351562,\n",
              "        0.16992188, -0.10742188, -0.29882812,  0.00866699, -0.27734375,\n",
              "       -0.20996094, -0.1796875 , -0.19628906, -0.22167969,  0.08886719,\n",
              "       -0.27734375, -0.13964844,  0.15917969,  0.03637695,  0.03320312,\n",
              "       -0.08105469,  0.25390625, -0.08691406, -0.21289062, -0.18945312,\n",
              "       -0.22363281,  0.06542969, -0.16601562,  0.08837891, -0.359375  ,\n",
              "       -0.09863281,  0.35546875, -0.00741577,  0.19042969,  0.16992188,\n",
              "       -0.06005859, -0.20605469,  0.08105469,  0.12988281, -0.01135254,\n",
              "        0.33203125, -0.08691406,  0.27539062, -0.03271484,  0.12011719,\n",
              "       -0.0625    ,  0.1953125 , -0.10986328, -0.11767578,  0.20996094,\n",
              "        0.19921875,  0.02954102, -0.16015625,  0.00276184, -0.01367188,\n",
              "        0.03442383, -0.19335938,  0.00352478, -0.06542969, -0.05566406,\n",
              "        0.09423828,  0.29296875,  0.04052734, -0.09326172, -0.10107422,\n",
              "       -0.27539062,  0.04394531, -0.07275391,  0.13867188,  0.02380371,\n",
              "        0.13085938,  0.00236511, -0.2265625 ,  0.34765625,  0.13574219,\n",
              "        0.05224609,  0.18164062,  0.0402832 ,  0.23730469, -0.16992188,\n",
              "        0.10058594,  0.03833008,  0.10839844, -0.05615234, -0.00946045,\n",
              "        0.14550781, -0.30078125, -0.32226562,  0.18847656, -0.40234375,\n",
              "       -0.3125    , -0.08007812, -0.26757812,  0.16699219,  0.07324219,\n",
              "        0.06347656,  0.06591797,  0.17285156, -0.17773438,  0.00276184,\n",
              "       -0.05761719, -0.2265625 , -0.19628906,  0.09667969,  0.13769531,\n",
              "       -0.49414062, -0.27929688,  0.12304688, -0.30078125,  0.01293945,\n",
              "       -0.1875    , -0.20898438, -0.1796875 , -0.16015625, -0.03295898,\n",
              "        0.00976562,  0.25390625, -0.25195312,  0.00210571,  0.04296875,\n",
              "        0.01184082, -0.20605469,  0.24804688, -0.203125  , -0.17773438,\n",
              "        0.07275391,  0.04541016,  0.21679688, -0.2109375 ,  0.14550781,\n",
              "       -0.16210938,  0.20410156, -0.19628906, -0.35742188,  0.35742188,\n",
              "       -0.11962891,  0.35742188,  0.10351562,  0.07080078, -0.24707031,\n",
              "       -0.10449219, -0.19238281,  0.1484375 ,  0.00057983,  0.296875  ,\n",
              "       -0.12695312, -0.03979492,  0.13183594, -0.16601562,  0.125     ,\n",
              "        0.05126953, -0.14941406,  0.13671875, -0.02075195,  0.34375   ],\n",
              "      dtype=float32)"
            ]
          },
          "metadata": {},
          "execution_count": 7
        }
      ]
    },
    {
      "cell_type": "code",
      "source": [
        "len(wv['apple'])"
      ],
      "metadata": {
        "colab": {
          "base_uri": "https://localhost:8080/"
        },
        "id": "9mk6KkNvH644",
        "outputId": "c9b66e84-0008-49fd-fa85-7d90ca0a7384"
      },
      "execution_count": 8,
      "outputs": [
        {
          "output_type": "execute_result",
          "data": {
            "text/plain": [
              "300"
            ]
          },
          "metadata": {},
          "execution_count": 8
        }
      ]
    },
    {
      "cell_type": "code",
      "source": [
        "from gensim.models import KeyedVectors\n",
        "wv = KeyedVectors.load('/content/drive/MyDrive/Content Creation/Youtube Tutorials/vectors.kv')"
      ],
      "metadata": {
        "id": "yj3MKu9xOMEl",
        "outputId": "e8e7ea2d-359b-4a10-aed3-cf72fdcb06a4",
        "colab": {
          "base_uri": "https://localhost:8080/",
          "height": 304
        }
      },
      "execution_count": 10,
      "outputs": [
        {
          "output_type": "error",
          "ename": "FileNotFoundError",
          "evalue": "[Errno 2] No such file or directory: '/content/drive/MyDrive/Content Creation/Youtube Tutorials/vectors.kv'",
          "traceback": [
            "\u001b[0;31m---------------------------------------------------------------------------\u001b[0m",
            "\u001b[0;31mFileNotFoundError\u001b[0m                         Traceback (most recent call last)",
            "\u001b[0;32m<ipython-input-10-388d1893f95c>\u001b[0m in \u001b[0;36m<cell line: 2>\u001b[0;34m()\u001b[0m\n\u001b[1;32m      1\u001b[0m \u001b[0;32mfrom\u001b[0m \u001b[0mgensim\u001b[0m\u001b[0;34m.\u001b[0m\u001b[0mmodels\u001b[0m \u001b[0;32mimport\u001b[0m \u001b[0mKeyedVectors\u001b[0m\u001b[0;34m\u001b[0m\u001b[0;34m\u001b[0m\u001b[0m\n\u001b[0;32m----> 2\u001b[0;31m \u001b[0mwv\u001b[0m \u001b[0;34m=\u001b[0m \u001b[0mKeyedVectors\u001b[0m\u001b[0;34m.\u001b[0m\u001b[0mload\u001b[0m\u001b[0;34m(\u001b[0m\u001b[0;34m'/content/drive/MyDrive/Content Creation/Youtube Tutorials/vectors.kv'\u001b[0m\u001b[0;34m)\u001b[0m\u001b[0;34m\u001b[0m\u001b[0;34m\u001b[0m\u001b[0m\n\u001b[0m",
            "\u001b[0;32m/usr/local/lib/python3.10/dist-packages/gensim/utils.py\u001b[0m in \u001b[0;36mload\u001b[0;34m(cls, fname, mmap)\u001b[0m\n\u001b[1;32m    483\u001b[0m         \u001b[0mcompress\u001b[0m\u001b[0;34m,\u001b[0m \u001b[0msubname\u001b[0m \u001b[0;34m=\u001b[0m \u001b[0mSaveLoad\u001b[0m\u001b[0;34m.\u001b[0m\u001b[0m_adapt_by_suffix\u001b[0m\u001b[0;34m(\u001b[0m\u001b[0mfname\u001b[0m\u001b[0;34m)\u001b[0m\u001b[0;34m\u001b[0m\u001b[0;34m\u001b[0m\u001b[0m\n\u001b[1;32m    484\u001b[0m \u001b[0;34m\u001b[0m\u001b[0m\n\u001b[0;32m--> 485\u001b[0;31m         \u001b[0mobj\u001b[0m \u001b[0;34m=\u001b[0m \u001b[0munpickle\u001b[0m\u001b[0;34m(\u001b[0m\u001b[0mfname\u001b[0m\u001b[0;34m)\u001b[0m\u001b[0;34m\u001b[0m\u001b[0;34m\u001b[0m\u001b[0m\n\u001b[0m\u001b[1;32m    486\u001b[0m         \u001b[0mobj\u001b[0m\u001b[0;34m.\u001b[0m\u001b[0m_load_specials\u001b[0m\u001b[0;34m(\u001b[0m\u001b[0mfname\u001b[0m\u001b[0;34m,\u001b[0m \u001b[0mmmap\u001b[0m\u001b[0;34m,\u001b[0m \u001b[0mcompress\u001b[0m\u001b[0;34m,\u001b[0m \u001b[0msubname\u001b[0m\u001b[0;34m)\u001b[0m\u001b[0;34m\u001b[0m\u001b[0;34m\u001b[0m\u001b[0m\n\u001b[1;32m    487\u001b[0m         \u001b[0mobj\u001b[0m\u001b[0;34m.\u001b[0m\u001b[0madd_lifecycle_event\u001b[0m\u001b[0;34m(\u001b[0m\u001b[0;34m\"loaded\"\u001b[0m\u001b[0;34m,\u001b[0m \u001b[0mfname\u001b[0m\u001b[0;34m=\u001b[0m\u001b[0mfname\u001b[0m\u001b[0;34m)\u001b[0m\u001b[0;34m\u001b[0m\u001b[0;34m\u001b[0m\u001b[0m\n",
            "\u001b[0;32m/usr/local/lib/python3.10/dist-packages/gensim/utils.py\u001b[0m in \u001b[0;36munpickle\u001b[0;34m(fname)\u001b[0m\n\u001b[1;32m   1457\u001b[0m \u001b[0;34m\u001b[0m\u001b[0m\n\u001b[1;32m   1458\u001b[0m     \"\"\"\n\u001b[0;32m-> 1459\u001b[0;31m     \u001b[0;32mwith\u001b[0m \u001b[0mopen\u001b[0m\u001b[0;34m(\u001b[0m\u001b[0mfname\u001b[0m\u001b[0;34m,\u001b[0m \u001b[0;34m'rb'\u001b[0m\u001b[0;34m)\u001b[0m \u001b[0;32mas\u001b[0m \u001b[0mf\u001b[0m\u001b[0;34m:\u001b[0m\u001b[0;34m\u001b[0m\u001b[0;34m\u001b[0m\u001b[0m\n\u001b[0m\u001b[1;32m   1460\u001b[0m         \u001b[0;32mreturn\u001b[0m \u001b[0m_pickle\u001b[0m\u001b[0;34m.\u001b[0m\u001b[0mload\u001b[0m\u001b[0;34m(\u001b[0m\u001b[0mf\u001b[0m\u001b[0;34m,\u001b[0m \u001b[0mencoding\u001b[0m\u001b[0;34m=\u001b[0m\u001b[0;34m'latin1'\u001b[0m\u001b[0;34m)\u001b[0m  \u001b[0;31m# needed because loading from S3 doesn't support readline()\u001b[0m\u001b[0;34m\u001b[0m\u001b[0;34m\u001b[0m\u001b[0m\n\u001b[1;32m   1461\u001b[0m \u001b[0;34m\u001b[0m\u001b[0m\n",
            "\u001b[0;32m/usr/local/lib/python3.10/dist-packages/smart_open/smart_open_lib.py\u001b[0m in \u001b[0;36mopen\u001b[0;34m(uri, mode, buffering, encoding, errors, newline, closefd, opener, compression, transport_params)\u001b[0m\n\u001b[1;32m    175\u001b[0m         \u001b[0mtransport_params\u001b[0m \u001b[0;34m=\u001b[0m \u001b[0;34m{\u001b[0m\u001b[0;34m}\u001b[0m\u001b[0;34m\u001b[0m\u001b[0;34m\u001b[0m\u001b[0m\n\u001b[1;32m    176\u001b[0m \u001b[0;34m\u001b[0m\u001b[0m\n\u001b[0;32m--> 177\u001b[0;31m     fobj = _shortcut_open(\n\u001b[0m\u001b[1;32m    178\u001b[0m         \u001b[0muri\u001b[0m\u001b[0;34m,\u001b[0m\u001b[0;34m\u001b[0m\u001b[0;34m\u001b[0m\u001b[0m\n\u001b[1;32m    179\u001b[0m         \u001b[0mmode\u001b[0m\u001b[0;34m,\u001b[0m\u001b[0;34m\u001b[0m\u001b[0;34m\u001b[0m\u001b[0m\n",
            "\u001b[0;32m/usr/local/lib/python3.10/dist-packages/smart_open/smart_open_lib.py\u001b[0m in \u001b[0;36m_shortcut_open\u001b[0;34m(uri, mode, compression, buffering, encoding, errors, newline)\u001b[0m\n\u001b[1;32m    361\u001b[0m         \u001b[0mopen_kwargs\u001b[0m\u001b[0;34m[\u001b[0m\u001b[0;34m'errors'\u001b[0m\u001b[0;34m]\u001b[0m \u001b[0;34m=\u001b[0m \u001b[0merrors\u001b[0m\u001b[0;34m\u001b[0m\u001b[0;34m\u001b[0m\u001b[0m\n\u001b[1;32m    362\u001b[0m \u001b[0;34m\u001b[0m\u001b[0m\n\u001b[0;32m--> 363\u001b[0;31m     \u001b[0;32mreturn\u001b[0m \u001b[0m_builtin_open\u001b[0m\u001b[0;34m(\u001b[0m\u001b[0mlocal_path\u001b[0m\u001b[0;34m,\u001b[0m \u001b[0mmode\u001b[0m\u001b[0;34m,\u001b[0m \u001b[0mbuffering\u001b[0m\u001b[0;34m=\u001b[0m\u001b[0mbuffering\u001b[0m\u001b[0;34m,\u001b[0m \u001b[0;34m**\u001b[0m\u001b[0mopen_kwargs\u001b[0m\u001b[0;34m)\u001b[0m\u001b[0;34m\u001b[0m\u001b[0;34m\u001b[0m\u001b[0m\n\u001b[0m\u001b[1;32m    364\u001b[0m \u001b[0;34m\u001b[0m\u001b[0m\n\u001b[1;32m    365\u001b[0m \u001b[0;34m\u001b[0m\u001b[0m\n",
            "\u001b[0;31mFileNotFoundError\u001b[0m: [Errno 2] No such file or directory: '/content/drive/MyDrive/Content Creation/Youtube Tutorials/vectors.kv'"
          ]
        }
      ]
    },
    {
      "cell_type": "code",
      "source": [
        "wv.similarity(\"apple\", \"mango\")"
      ],
      "metadata": {
        "colab": {
          "base_uri": "https://localhost:8080/"
        },
        "id": "ERMiTXcrI2Du",
        "outputId": "a8eff738-10da-4dd6-b789-caa309e913d2"
      },
      "execution_count": 9,
      "outputs": [
        {
          "output_type": "execute_result",
          "data": {
            "text/plain": [
              "0.57518554"
            ]
          },
          "metadata": {},
          "execution_count": 9
        }
      ]
    },
    {
      "cell_type": "code",
      "source": [
        "wv.similarity(\"apple\", \"car\")"
      ],
      "metadata": {
        "colab": {
          "base_uri": "https://localhost:8080/"
        },
        "id": "56TLg3ygJKwB",
        "outputId": "232ae2d3-87c0-4d27-bd43-becd04d3c514"
      },
      "execution_count": 10,
      "outputs": [
        {
          "output_type": "execute_result",
          "data": {
            "text/plain": [
              "0.12830707"
            ]
          },
          "metadata": {},
          "execution_count": 10
        }
      ]
    },
    {
      "cell_type": "code",
      "source": [
        "pairs = [\n",
        "    ('car', 'minivan'),   # a minivan is a kind of car\n",
        "    ('car', 'bicycle'),   # still a wheeled vehicle\n",
        "    ('car', 'airplane'),  # ok, no wheels, but still a vehicle\n",
        "    ('car', 'cereal'),    # ... and so on\n",
        "    ('car', 'communism'),\n",
        "]\n",
        "for w1, w2 in pairs:\n",
        "    print('%r\\t%r\\t%.2f' % (w1, w2, wv.similarity(w1, w2)))"
      ],
      "metadata": {
        "id": "b1MxV_x3fEPm",
        "colab": {
          "base_uri": "https://localhost:8080/"
        },
        "outputId": "f95b4931-417b-44df-b48c-9f4313bdf29c"
      },
      "execution_count": 11,
      "outputs": [
        {
          "output_type": "stream",
          "name": "stdout",
          "text": [
            "'car'\t'minivan'\t0.69\n",
            "'car'\t'bicycle'\t0.54\n",
            "'car'\t'airplane'\t0.42\n",
            "'car'\t'cereal'\t0.14\n",
            "'car'\t'communism'\t0.06\n"
          ]
        }
      ]
    },
    {
      "cell_type": "code",
      "source": [
        "print(wv.most_similar(positive=['car', 'minivan'], topn=5))"
      ],
      "metadata": {
        "id": "af8Fjp0TfOFl",
        "colab": {
          "base_uri": "https://localhost:8080/"
        },
        "outputId": "44fd7647-e28b-46e4-d73c-fc79d2e43ad8"
      },
      "execution_count": 13,
      "outputs": [
        {
          "output_type": "stream",
          "name": "stdout",
          "text": [
            "[('SUV', 0.8532192707061768), ('vehicle', 0.8175783753395081), ('pickup_truck', 0.7763688564300537), ('Jeep', 0.7567334175109863), ('Ford_Explorer', 0.7565720081329346)]\n"
          ]
        }
      ]
    },
    {
      "cell_type": "code",
      "source": [
        "print(wv.doesnt_match(['fire', 'water', 'land', 'sea', 'air', 'car']))"
      ],
      "metadata": {
        "id": "QykE5BjrfVoG",
        "colab": {
          "base_uri": "https://localhost:8080/"
        },
        "outputId": "54d44ca5-ad2b-4003-8516-342df1acd913"
      },
      "execution_count": 14,
      "outputs": [
        {
          "output_type": "stream",
          "name": "stdout",
          "text": [
            "car\n"
          ]
        }
      ]
    },
    {
      "cell_type": "markdown",
      "metadata": {
        "id": "ZKbj-Rj0d3uw"
      },
      "source": [
        "#### Semantic regularities captured in word embeddings"
      ]
    },
    {
      "cell_type": "code",
      "execution_count": 15,
      "metadata": {
        "id": "CioPg8xtd3uw",
        "outputId": "d52ea2dc-4c13-4622-c629-acf52ffe6f0b",
        "colab": {
          "base_uri": "https://localhost:8080/"
        }
      },
      "outputs": [
        {
          "output_type": "execute_result",
          "data": {
            "text/plain": [
              "[('queen', 0.7118193507194519),\n",
              " ('monarch', 0.6189674139022827),\n",
              " ('princess', 0.5902431011199951)]"
            ]
          },
          "metadata": {},
          "execution_count": 15
        }
      ],
      "source": [
        "wv.most_similar(positive=['woman', 'king'], negative=['man'], topn=3)"
      ]
    },
    {
      "cell_type": "code",
      "source": [
        "wv.most_similar(positive=['woman', 'king'], topn=3)"
      ],
      "metadata": {
        "colab": {
          "base_uri": "https://localhost:8080/"
        },
        "id": "-mZtVMO1MgIQ",
        "outputId": "06bb8d43-ec26-4e58-8bfc-4a526297dba4"
      },
      "execution_count": 16,
      "outputs": [
        {
          "output_type": "execute_result",
          "data": {
            "text/plain": [
              "[('man', 0.6628609299659729),\n",
              " ('queen', 0.6438563466072083),\n",
              " ('girl', 0.6136074066162109)]"
            ]
          },
          "metadata": {},
          "execution_count": 16
        }
      ]
    },
    {
      "cell_type": "code",
      "source": [
        "words = [\"one\",'two','man','woman','table']"
      ],
      "metadata": {
        "id": "77of9vb4Nngx"
      },
      "execution_count": 17,
      "outputs": []
    },
    {
      "cell_type": "code",
      "source": [
        "# https://deepai.org/dataset/text8"
      ],
      "metadata": {
        "id": "Xw50zX3EbDqh"
      },
      "execution_count": null,
      "outputs": []
    },
    {
      "cell_type": "code",
      "source": [
        "sample_vectors = np.array([wv[word] for word in words])\n",
        "from sklearn.decomposition import PCA\n",
        "pca = PCA(n_components=2)\n",
        "result = pca.fit_transform(sample_vectors)\n",
        "result"
      ],
      "metadata": {
        "id": "DYpApeTjBYZ1",
        "colab": {
          "base_uri": "https://localhost:8080/"
        },
        "outputId": "d3e7bd82-b7c9-4453-f330-fa04586f6c2d"
      },
      "execution_count": 18,
      "outputs": [
        {
          "output_type": "execute_result",
          "data": {
            "text/plain": [
              "array([[-0.41775903, -0.9067283 ],\n",
              "       [-0.5203664 , -1.394777  ],\n",
              "       [ 1.2547548 ,  0.32591197],\n",
              "       [ 1.6043068 ,  0.6471788 ],\n",
              "       [-1.9209367 ,  1.3284149 ]], dtype=float32)"
            ]
          },
          "metadata": {},
          "execution_count": 18
        }
      ]
    },
    {
      "cell_type": "markdown",
      "metadata": {
        "id": "TnJ-I-8sd3uy"
      },
      "source": [
        "### Visualizing these word vectors"
      ]
    },
    {
      "cell_type": "code",
      "execution_count": 19,
      "metadata": {
        "id": "vLRFzuXLd3u3",
        "outputId": "8d9316eb-d9e4-49da-a7e5-922172699455",
        "colab": {
          "base_uri": "https://localhost:8080/",
          "height": 984
        }
      },
      "outputs": [
        {
          "output_type": "display_data",
          "data": {
            "text/plain": [
              "<Figure size 1200x1200 with 1 Axes>"
            ],
            "image/png": "[encoded data removed]"
          },
          "metadata": {}
        }
      ],
      "source": [
        "plt.figure(figsize=(12,12))\n",
        "plt.scatter(result[:,0], result[:,1])\n",
        "for i, word in enumerate(words):\n",
        "    plt.annotate(word, xy=(result[i, 0], result[i, 1]))\n",
        "plt.show()"
      ]
    },
    {
      "cell_type": "code",
      "source": [
        "data = pd.read_csv(\"/content/drive/MyDrive/Content Creation/Youtube Tutorials/datasets/toxic_commnets_500.csv\",error_bad_lines=False, engine=\"python\")\n",
        "data.head()"
      ],
      "metadata": {
        "id": "r8q8h4K3dXcI",
        "colab": {
          "base_uri": "https://localhost:8080/",
          "height": 158
        },
        "outputId": "e557e152-2063-4199-d089-ccbffbed65e5"
      },
      "execution_count": 20,
      "outputs": [
        {
          "output_type": "error",
          "ename": "TypeError",
          "evalue": "read_csv() got an unexpected keyword argument 'error_bad_lines'",
          "traceback": [
            "\u001b[0;31m---------------------------------------------------------------------------\u001b[0m",
            "\u001b[0;31mTypeError\u001b[0m                                 Traceback (most recent call last)",
            "\u001b[0;32m<ipython-input-20-41f60dc1b244>\u001b[0m in \u001b[0;36m<cell line: 1>\u001b[0;34m()\u001b[0m\n\u001b[0;32m----> 1\u001b[0;31m \u001b[0mdata\u001b[0m \u001b[0;34m=\u001b[0m \u001b[0mpd\u001b[0m\u001b[0;34m.\u001b[0m\u001b[0mread_csv\u001b[0m\u001b[0;34m(\u001b[0m\u001b[0;34m\"/content/drive/MyDrive/Content Creation/Youtube Tutorials/datasets/toxic_commnets_500.csv\"\u001b[0m\u001b[0;34m,\u001b[0m\u001b[0merror_bad_lines\u001b[0m\u001b[0;34m=\u001b[0m\u001b[0;32mFalse\u001b[0m\u001b[0;34m,\u001b[0m \u001b[0mengine\u001b[0m\u001b[0;34m=\u001b[0m\u001b[0;34m\"python\"\u001b[0m\u001b[0;34m)\u001b[0m\u001b[0;34m\u001b[0m\u001b[0;34m\u001b[0m\u001b[0m\n\u001b[0m\u001b[1;32m      2\u001b[0m \u001b[0mdata\u001b[0m\u001b[0;34m.\u001b[0m\u001b[0mhead\u001b[0m\u001b[0;34m(\u001b[0m\u001b[0;34m)\u001b[0m\u001b[0;34m\u001b[0m\u001b[0;34m\u001b[0m\u001b[0m\n",
            "\u001b[0;31mTypeError\u001b[0m: read_csv() got an unexpected keyword argument 'error_bad_lines'"
          ]
        }
      ]
    },
    {
      "cell_type": "code",
      "source": [
        "def sent_vec(sent):\n",
        "    vector_size = wv.vector_size\n",
        "    wv_res = np.zeros(vector_size)\n",
        "    # print(wv_res)\n",
        "    ctr = 1\n",
        "    for w in sent:\n",
        "        if w in wv:\n",
        "            ctr += 1\n",
        "            wv_res += wv[w]\n",
        "    wv_res = wv_res/ctr\n",
        "    return wv_res"
      ],
      "metadata": {
        "id": "Lkq3vjTRcGXz"
      },
      "execution_count": 21,
      "outputs": []
    },
    {
      "cell_type": "code",
      "source": [
        "# Creating our tokenizer function\n",
        "def spacy_tokenizer(sentence):\n",
        "    # Creating our token object, which is used to create documents with linguistic annotations.\n",
        "    doc = nlp(sentence)\n",
        "\n",
        "\n",
        "\n",
        "    # print(doc)\n",
        "    # print(type(doc))\n",
        "\n",
        "    # Lemmatizing each token and converting each token into lowercase\n",
        "    mytokens = [ word.lemma_.lower().strip() for word in doc ]\n",
        "\n",
        "    # print(mytokens)\n",
        "\n",
        "    # Removing stop words\n",
        "    mytokens = [ word for word in mytokens if word not in stop_words and word not in punctuations ]\n",
        "\n",
        "    # return preprocessed list of tokens\n",
        "    return mytokens"
      ],
      "metadata": {
        "id": "1X-v4Q9adjfC"
      },
      "execution_count": null,
      "outputs": []
    },
    {
      "cell_type": "code",
      "source": [
        "sent_vec(\"I am happy\")"
      ],
      "metadata": {
        "colab": {
          "base_uri": "https://localhost:8080/"
        },
        "id": "d7PkUr8fcIny",
        "outputId": "6bbca910-b689-43c3-a00b-69198b0cdff7"
      },
      "execution_count": null,
      "outputs": [
        {
          "output_type": "stream",
          "name": "stdout",
          "text": [
            "[0. 0. 0. 0. 0. 0. 0. 0. 0. 0. 0. 0. 0. 0. 0. 0. 0. 0. 0. 0. 0. 0. 0. 0.\n",
            " 0. 0. 0. 0. 0. 0. 0. 0. 0. 0. 0. 0. 0. 0. 0. 0. 0. 0. 0. 0. 0. 0. 0. 0.\n",
            " 0. 0. 0. 0. 0. 0. 0. 0. 0. 0. 0. 0. 0. 0. 0. 0. 0. 0. 0. 0. 0. 0. 0. 0.\n",
            " 0. 0. 0. 0. 0. 0. 0. 0. 0. 0. 0. 0. 0. 0. 0. 0. 0. 0. 0. 0. 0. 0. 0. 0.\n",
            " 0. 0. 0. 0. 0. 0. 0. 0. 0. 0. 0. 0. 0. 0. 0. 0. 0. 0. 0. 0. 0. 0. 0. 0.\n",
            " 0. 0. 0. 0. 0. 0. 0. 0. 0. 0. 0. 0. 0. 0. 0. 0. 0. 0. 0. 0. 0. 0. 0. 0.\n",
            " 0. 0. 0. 0. 0. 0. 0. 0. 0. 0. 0. 0. 0. 0. 0. 0. 0. 0. 0. 0. 0. 0. 0. 0.\n",
            " 0. 0. 0. 0. 0. 0. 0. 0. 0. 0. 0. 0. 0. 0. 0. 0. 0. 0. 0. 0. 0. 0. 0. 0.\n",
            " 0. 0. 0. 0. 0. 0. 0. 0. 0. 0. 0. 0. 0. 0. 0. 0. 0. 0. 0. 0. 0. 0. 0. 0.\n",
            " 0. 0. 0. 0. 0. 0. 0. 0. 0. 0. 0. 0. 0. 0. 0. 0. 0. 0. 0. 0. 0. 0. 0. 0.\n",
            " 0. 0. 0. 0. 0. 0. 0. 0. 0. 0. 0. 0. 0. 0. 0. 0. 0. 0. 0. 0. 0. 0. 0. 0.\n",
            " 0. 0. 0. 0. 0. 0. 0. 0. 0. 0. 0. 0. 0. 0. 0. 0. 0. 0. 0. 0. 0. 0. 0. 0.\n",
            " 0. 0. 0. 0. 0. 0. 0. 0. 0. 0. 0. 0.]\n"
          ]
        },
        {
          "output_type": "execute_result",
          "data": {
            "text/plain": [
              "array([-0.08447266,  0.10973685, -0.00453404,  0.18362863, -0.05944824,\n",
              "       -0.04013497, -0.10041155,  0.03710938, -0.02503313,  0.04729353,\n",
              "       -0.07543836, -0.16434152, -0.1116333 ,  0.02915737, -0.12290737,\n",
              "        0.10421317, -0.00425502,  0.27535575, -0.01681083, -0.08075387,\n",
              "       -0.26747349, -0.07281712,  0.08138602, -0.02498954, -0.05358887,\n",
              "       -0.07969884, -0.30385045,  0.10531616, -0.03756278, -0.04029192,\n",
              "        0.06455776, -0.02200753, -0.11361694, -0.12702288, -0.19824219,\n",
              "        0.06921387, -0.14557757,  0.18457031, -0.05542864,  0.10093471,\n",
              "        0.10728237, -0.07920619, -0.01236398,  0.11485073,  0.09437779,\n",
              "        0.02020509, -0.08954729, -0.12911551, -0.0363072 ,  0.05212402,\n",
              "       -0.12200056,  0.23856027, -0.04056222,  0.12512207,  0.05569894,\n",
              "        0.1237793 , -0.08370536, -0.05489676, -0.0291748 , -0.18401228,\n",
              "       -0.14592634, -0.04910714, -0.15844727, -0.03636387,  0.00628662,\n",
              "       -0.30032785, -0.11404855,  0.08530971,  0.01077706,  0.0574428 ,\n",
              "       -0.09995815, -0.10465785,  0.10574777, -0.00917271, -0.09824262,\n",
              "       -0.04896763,  0.17745536, -0.04339164, -0.06466239,  0.01313128,\n",
              "       -0.09603446,  0.00534494,  0.08458383,  0.01998465,  0.02692522,\n",
              "        0.02752686, -0.02007185,  0.3390067 ,  0.02928162,  0.09033203,\n",
              "        0.07870047,  0.00167411, -0.0333252 , -0.02891323, -0.06089565,\n",
              "        0.07552665, -0.04833984, -0.01628767,  0.10260882, -0.13987514,\n",
              "       -0.08775112, -0.00132533, -0.06152344, -0.04595075,  0.01752145,\n",
              "        0.18024554, -0.06834194,  0.08422852, -0.07257952, -0.07781546,\n",
              "       -0.04582868, -0.10940988,  0.02358028, -0.14972796,  0.01388441,\n",
              "        0.11439732,  0.08854621, -0.00599016,  0.09349278,  0.05398451,\n",
              "        0.07191685,  0.04185268,  0.07831682,  0.08750698,  0.12862723,\n",
              "       -0.21013532,  0.00840105,  0.03111049,  0.03386579,  0.10358538,\n",
              "       -0.07373047, -0.0549142 , -0.01322283, -0.06009347, -0.11294992,\n",
              "        0.00795201,  0.0183803 ,  0.15813337,  0.17522321,  0.20354353,\n",
              "        0.09742955,  0.00415039, -0.00454276, -0.05308315, -0.09364537,\n",
              "        0.02223914, -0.0718471 ,  0.07327706, -0.07641602,  0.01175145,\n",
              "       -0.00167411, -0.28180804, -0.12304688, -0.05371094, -0.11308943,\n",
              "       -0.07055664,  0.04776219,  0.20068359, -0.01813834, -0.02026367,\n",
              "        0.03273228,  0.16364397,  0.07322475,  0.05316162,  0.04755511,\n",
              "       -0.01130022,  0.12465123,  0.06210981, -0.11111886,  0.10103062,\n",
              "       -0.13741629, -0.13131278,  0.03572301, -0.02902658, -0.07064383,\n",
              "        0.21592494,  0.20410156, -0.18233817,  0.08067104,  0.01032366,\n",
              "       -0.07979911,  0.11033412,  0.06340681,  0.02211217, -0.08592006,\n",
              "        0.07704381, -0.0725272 ,  0.07187544,  0.01211984, -0.03060477,\n",
              "        0.0861642 , -0.15258789, -0.12581961,  0.0480957 ,  0.17222377,\n",
              "        0.01384626, -0.02099609, -0.00728498,  0.06734794, -0.02685547,\n",
              "       -0.11829485,  0.04153878, -0.12597656, -0.13134766,  0.05083357,\n",
              "       -0.0584368 , -0.07868304,  0.09730748, -0.05726842,  0.13896833,\n",
              "        0.13838414, -0.00094169, -0.1723284 ,  0.05303083, -0.11791992,\n",
              "       -0.00174386,  0.1492048 , -0.07749721, -0.04099819,  0.02959333,\n",
              "       -0.05730329,  0.15049526,  0.22276088, -0.00498744,  0.05608259,\n",
              "       -0.11181641,  0.08290318,  0.13769531, -0.02134487, -0.01025391,\n",
              "       -0.01314872,  0.00779506, -0.16397531, -0.05090332, -0.02671596,\n",
              "        0.06131417, -0.09092494,  0.13727679,  0.11607143,  0.02842494,\n",
              "        0.07364764,  0.07584054,  0.17138672, -0.08429827, -0.00184849,\n",
              "        0.12456839, -0.13391113,  0.13455636, -0.12329102, -0.00519671,\n",
              "        0.10740716, -0.05678013, -0.02547782,  0.12550572, -0.04554967,\n",
              "       -0.12297712, -0.00975255,  0.00516183,  0.0862296 , -0.06199864,\n",
              "       -0.0128697 , -0.03205218,  0.0324707 , -0.08956473, -0.09884208,\n",
              "        0.08334351,  0.11446708, -0.03658622,  0.05376761, -0.04617746,\n",
              "       -0.06955174,  0.0453404 ,  0.14022391,  0.02305385,  0.07013811,\n",
              "       -0.01949637, -0.22670201, -0.1367885 , -0.10330636,  0.08925084,\n",
              "        0.01345389,  0.24515751,  0.01749093, -0.05561175,  0.06201172,\n",
              "       -0.017116  ,  0.01143101,  0.01436942, -0.05946568, -0.09169224,\n",
              "        0.04420689, -0.06291853, -0.20572335,  0.10785784, -0.01130022,\n",
              "       -0.15813337, -0.11539132, -0.00368827, -0.00578962,  0.05154855])"
            ]
          },
          "metadata": {},
          "execution_count": 31
        }
      ]
    },
    {
      "cell_type": "code",
      "source": [
        "nlp = spacy.load(\"en_core_web_sm\")\n",
        "stop_words = nlp.Defaults.stop_words\n",
        "print(stop_words)"
      ],
      "metadata": {
        "colab": {
          "base_uri": "https://localhost:8080/"
        },
        "id": "MrfAYBjQdoGe",
        "outputId": "9c58b564-b93e-421d-f972-bd2d2b5db381"
      },
      "execution_count": null,
      "outputs": [
        {
          "output_type": "stream",
          "name": "stdout",
          "text": [
            "{'empty', 'more', 'she', 'upon', 'really', 'less', 'so', 'still', 'no', 'behind', 'nothing', 'become', 'every', 'using', 'yourself', 'who', 'others', 'such', 'before', 'but', 'toward', 'everyone', '’ve', 'because', 'never', 'see', 'whereupon', 'seeming', 'throughout', 'up', 'latterly', 'while', 'within', 'amongst', 'once', 'around', 'our', 'former', 'eight', 'full', 'these', 'be', 'front', 'whom', 'became', 'either', 'least', 'other', 'neither', 'has', 'where', 'only', 'do', 'part', 'something', 'those', 'was', 'give', 'down', 'is', 'might', 'wherever', 'amount', 'ca', 'n‘t', 'doing', 'each', 'your', 'beside', '‘ve', 'of', 'also', 'been', 'whole', 'n’t', 'about', 'two', 'formerly', '‘ll', 'often', 'put', 'someone', 'besides', 'ever', 'quite', '‘d', 'becoming', 'thence', 'even', 'last', 'twenty', '‘s', 'just', 'am', 'should', 'off', 'among', 'into', 'together', 'almost', 'ours', 'were', 'below', 'none', 'rather', 'fifteen', 'regarding', 'twelve', 'four', 'if', 'enough', 'moreover', 'six', 'against', 'everywhere', 'whatever', 'ourselves', 'very', 'per', \"'ve\", 'whence', 'between', 'namely', 'forty', 'may', 'nine', 'side', 'hereby', 'get', 'show', 'anything', 'by', '’d', 'yourselves', 'hers', 'have', 'whenever', 'most', 'seems', 'own', 'towards', 'hereupon', 'yours', 'until', 'hundred', 'beforehand', 'nor', 'as', 'us', 'could', 'hereafter', 'through', 'make', 'their', 'along', '’m', 'much', 'can', 'thus', 'else', 'go', 'top', 'first', 'again', 'under', 'whereafter', 'i', 'wherein', 'here', \"'m\", 're', 'sometimes', 'he', 'thereafter', 'cannot', 'whither', '’ll', 'nevertheless', 'must', 'anyway', 'her', 'otherwise', 'nobody', 'various', \"n't\", 'used', 'himself', 'ten', 'always', 'via', 'except', 'for', 'three', 'after', 'thru', 'a', 'him', 'serious', 'thereby', 'across', 'though', 'what', 'somehow', 'well', 'and', 'many', 'its', '‘m', 'some', 'it', 'made', 'meanwhile', 'we', 'his', 'the', 'anywhere', 'with', 'noone', 'therein', 'too', 'during', 'therefore', 'seemed', 'now', 'eleven', 'say', \"'s\", 'latter', 'from', 'indeed', 'them', 'they', 'me', 'afterwards', 'perhaps', 'seem', 'whose', 'whoever', 'in', \"'d\", 'anyhow', 'will', 'themselves', 'which', 'thereupon', 'whereas', 'same', 'above', 'beyond', 'however', \"'ll\", 'few', 'an', 'does', 'already', 'itself', 'becomes', 'herein', 'back', 'whereby', 'although', 'sixty', 'how', 'did', 'any', 'at', 'not', 'onto', 'that', 'to', 'take', 'bottom', 'fifty', 'done', 'everything', 'anyone', 'another', 'herself', \"'re\", 'due', 'since', 'this', 'call', 'hence', 'sometime', 'move', 'myself', 'there', 'had', 'third', 'nowhere', 'all', 'alone', 'keep', 'over', 'or', 'why', 'elsewhere', '’s', 'name', 'mostly', '’re', 'you', 'out', 'somewhere', 'unless', '‘re', 'five', 'please', 'both', 'are', 'next', 'mine', 'than', 'then', 'one', 'on', 'yet', 'my', 'further', 'would', 'whether', 'several', 'when', 'without', 'being'}\n"
          ]
        }
      ]
    },
    {
      "cell_type": "code",
      "source": [
        "punctuations = string.punctuation\n",
        "print(punctuations)"
      ],
      "metadata": {
        "colab": {
          "base_uri": "https://localhost:8080/"
        },
        "id": "UDO7z2qxdu9c",
        "outputId": "5f386646-d565-4467-f71c-aea2628c2118"
      },
      "execution_count": null,
      "outputs": [
        {
          "output_type": "stream",
          "name": "stdout",
          "text": [
            "!\"#$%&'()*+,-./:;<=>?@[\\]^_`{|}~\n"
          ]
        }
      ]
    },
    {
      "cell_type": "code",
      "source": [
        "data['tokens'] = data['comment_text'].apply(spacy_tokenizer)"
      ],
      "metadata": {
        "id": "vnv2KJUld3AP"
      },
      "execution_count": null,
      "outputs": []
    },
    {
      "cell_type": "code",
      "source": [
        "data.head()"
      ],
      "metadata": {
        "colab": {
          "base_uri": "https://localhost:8080/",
          "height": 206
        },
        "id": "efY14RdKeDIB",
        "outputId": "74aeb8b2-732f-417e-e5ea-68a2ae06ec6f"
      },
      "execution_count": null,
      "outputs": [
        {
          "output_type": "execute_result",
          "data": {
            "text/plain": [
              "                                        comment_text  toxic  \\\n",
              "0  Your knowledge of Hebrew? Thank god that Jossi...      0   \n",
              "1  ==Tablighi Jamaat and allegations of terrorism...      0   \n",
              "2  \"\\nWell it's understandable not wanting the in...      0   \n",
              "3  \"\\n\\n Please stop adding nonsense to Wikipedia...      0   \n",
              "4  Saint Petersburg\\nPlease, leave the sister cit...      0   \n",
              "\n",
              "                                              tokens  \n",
              "0  [knowledge, hebrew, thank, god, jossi, speak, ...  \n",
              "1  [tablighi, jamaat, allegation, terrorism==, ad...  \n",
              "2  [understandable, want, infobox, overfill, info...  \n",
              "3  [stop, add, nonsense, wikipedia, consider, van...  \n",
              "4  [saint, petersburg, leave, sister, city, ill, ...  "
            ],
            "text/html": [
              "\n",
              "  <div id=\"df-4eac7ad9-1686-4a2c-8cc3-c3e08f706b3b\">\n",
              "    <div class=\"colab-df-container\">\n",
              "      <div>\n",
              "<style scoped>\n",
              "    .dataframe tbody tr th:only-of-type {\n",
              "        vertical-align: middle;\n",
              "    }\n",
              "\n",
              "    .dataframe tbody tr th {\n",
              "        vertical-align: top;\n",
              "    }\n",
              "\n",
              "    .dataframe thead th {\n",
              "        text-align: right;\n",
              "    }\n",
              "</style>\n",
              "<table border=\"1\" class=\"dataframe\">\n",
              "  <thead>\n",
              "    <tr style=\"text-align: right;\">\n",
              "      <th></th>\n",
              "      <th>comment_text</th>\n",
              "      <th>toxic</th>\n",
              "      <th>tokens</th>\n",
              "    </tr>\n",
              "  </thead>\n",
              "  <tbody>\n",
              "    <tr>\n",
              "      <th>0</th>\n",
              "      <td>Your knowledge of Hebrew? Thank god that Jossi...</td>\n",
              "      <td>0</td>\n",
              "      <td>[knowledge, hebrew, thank, god, jossi, speak, ...</td>\n",
              "    </tr>\n",
              "    <tr>\n",
              "      <th>1</th>\n",
              "      <td>==Tablighi Jamaat and allegations of terrorism...</td>\n",
              "      <td>0</td>\n",
              "      <td>[tablighi, jamaat, allegation, terrorism==, ad...</td>\n",
              "    </tr>\n",
              "    <tr>\n",
              "      <th>2</th>\n",
              "      <td>\"\\nWell it's understandable not wanting the in...</td>\n",
              "      <td>0</td>\n",
              "      <td>[understandable, want, infobox, overfill, info...</td>\n",
              "    </tr>\n",
              "    <tr>\n",
              "      <th>3</th>\n",
              "      <td>\"\\n\\n Please stop adding nonsense to Wikipedia...</td>\n",
              "      <td>0</td>\n",
              "      <td>[stop, add, nonsense, wikipedia, consider, van...</td>\n",
              "    </tr>\n",
              "    <tr>\n",
              "      <th>4</th>\n",
              "      <td>Saint Petersburg\\nPlease, leave the sister cit...</td>\n",
              "      <td>0</td>\n",
              "      <td>[saint, petersburg, leave, sister, city, ill, ...</td>\n",
              "    </tr>\n",
              "  </tbody>\n",
              "</table>\n",
              "</div>\n",
              "      <button class=\"colab-df-convert\" onclick=\"convertToInteractive('df-4eac7ad9-1686-4a2c-8cc3-c3e08f706b3b')\"\n",
              "              title=\"Convert this dataframe to an interactive table.\"\n",
              "              style=\"display:none;\">\n",
              "        \n",
              "  <svg xmlns=\"http://www.w3.org/2000/svg\" height=\"24px\"viewBox=\"0 0 24 24\"\n",
              "       width=\"24px\">\n",
              "    <path d=\"M0 0h24v24H0V0z\" fill=\"none\"/>\n",
              "    <path d=\"M18.56 5.44l.94 2.06.94-2.06 2.06-.94-2.06-.94-.94-2.06-.94 2.06-2.06.94zm-11 1L8.5 8.5l.94-2.06 2.06-.94-2.06-.94L8.5 2.5l-.94 2.06-2.06.94zm10 10l.94 2.06.94-2.06 2.06-.94-2.06-.94-.94-2.06-.94 2.06-2.06.94z\"/><path d=\"M17.41 7.96l-1.37-1.37c-.4-.4-.92-.59-1.43-.59-.52 0-1.04.2-1.43.59L10.3 9.45l-7.72 7.72c-.78.78-.78 2.05 0 2.83L4 21.41c.39.39.9.59 1.41.59.51 0 1.02-.2 1.41-.59l7.78-7.78 2.81-2.81c.8-.78.8-2.07 0-2.86zM5.41 20L4 18.59l7.72-7.72 1.47 1.35L5.41 20z\"/>\n",
              "  </svg>\n",
              "      </button>\n",
              "      \n",
              "  <style>\n",
              "    .colab-df-container {\n",
              "      display:flex;\n",
              "      flex-wrap:wrap;\n",
              "      gap: 12px;\n",
              "    }\n",
              "\n",
              "    .colab-df-convert {\n",
              "      background-color: #E8F0FE;\n",
              "      border: none;\n",
              "      border-radius: 50%;\n",
              "      cursor: pointer;\n",
              "      display: none;\n",
              "      fill: #1967D2;\n",
              "      height: 32px;\n",
              "      padding: 0 0 0 0;\n",
              "      width: 32px;\n",
              "    }\n",
              "\n",
              "    .colab-df-convert:hover {\n",
              "      background-color: #E2EBFA;\n",
              "      box-shadow: 0px 1px 2px rgba(60, 64, 67, 0.3), 0px 1px 3px 1px rgba(60, 64, 67, 0.15);\n",
              "      fill: #174EA6;\n",
              "    }\n",
              "\n",
              "    [theme=dark] .colab-df-convert {\n",
              "      background-color: #3B4455;\n",
              "      fill: #D2E3FC;\n",
              "    }\n",
              "\n",
              "    [theme=dark] .colab-df-convert:hover {\n",
              "      background-color: #434B5C;\n",
              "      box-shadow: 0px 1px 3px 1px rgba(0, 0, 0, 0.15);\n",
              "      filter: drop-shadow(0px 1px 2px rgba(0, 0, 0, 0.3));\n",
              "      fill: #FFFFFF;\n",
              "    }\n",
              "  </style>\n",
              "\n",
              "      <script>\n",
              "        const buttonEl =\n",
              "          document.querySelector('#df-4eac7ad9-1686-4a2c-8cc3-c3e08f706b3b button.colab-df-convert');\n",
              "        buttonEl.style.display =\n",
              "          google.colab.kernel.accessAllowed ? 'block' : 'none';\n",
              "\n",
              "        async function convertToInteractive(key) {\n",
              "          const element = document.querySelector('#df-4eac7ad9-1686-4a2c-8cc3-c3e08f706b3b');\n",
              "          const dataTable =\n",
              "            await google.colab.kernel.invokeFunction('convertToInteractive',\n",
              "                                                     [key], {});\n",
              "          if (!dataTable) return;\n",
              "\n",
              "          const docLinkHtml = 'Like what you see? Visit the ' +\n",
              "            '<a target=\"_blank\" href=https://colab.research.google.com/notebooks/data_table.ipynb>data table notebook</a>'\n",
              "            + ' to learn more about interactive tables.';\n",
              "          element.innerHTML = '';\n",
              "          dataTable['output_type'] = 'display_data';\n",
              "          await google.colab.output.renderOutput(dataTable, element);\n",
              "          const docLink = document.createElement('div');\n",
              "          docLink.innerHTML = docLinkHtml;\n",
              "          element.appendChild(docLink);\n",
              "        }\n",
              "      </script>\n",
              "    </div>\n",
              "  </div>\n",
              "  "
            ]
          },
          "metadata": {},
          "execution_count": 36
        }
      ]
    },
    {
      "cell_type": "code",
      "source": [
        "data['vec'] = data['tokens'].apply(sent_vec)"
      ],
      "metadata": {
        "id": "J6fqfDhTeGA4"
      },
      "execution_count": null,
      "outputs": []
    },
    {
      "cell_type": "code",
      "source": [
        "data.head()"
      ],
      "metadata": {
        "colab": {
          "base_uri": "https://localhost:8080/",
          "height": 206
        },
        "id": "IBWAxmw2elxw",
        "outputId": "5ee6f732-8536-41cd-888f-7ea3c0e8bffb"
      },
      "execution_count": null,
      "outputs": [
        {
          "output_type": "execute_result",
          "data": {
            "text/plain": [
              "                                        comment_text  toxic  \\\n",
              "0  Your knowledge of Hebrew? Thank god that Jossi...      0   \n",
              "1  ==Tablighi Jamaat and allegations of terrorism...      0   \n",
              "2  \"\\nWell it's understandable not wanting the in...      0   \n",
              "3  \"\\n\\n Please stop adding nonsense to Wikipedia...      0   \n",
              "4  Saint Petersburg\\nPlease, leave the sister cit...      0   \n",
              "\n",
              "                                              tokens  \\\n",
              "0  [knowledge, hebrew, thank, god, jossi, speak, ...   \n",
              "1  [tablighi, jamaat, allegation, terrorism==, ad...   \n",
              "2  [understandable, want, infobox, overfill, info...   \n",
              "3  [stop, add, nonsense, wikipedia, consider, van...   \n",
              "4  [saint, petersburg, leave, sister, city, ill, ...   \n",
              "\n",
              "                                                 vec  \n",
              "0  [0.0632793719951923, -0.007477980393629808, 0....  \n",
              "1  [-0.049352010091145836, -0.007761637369791667,...  \n",
              "2  [0.02009953090122768, -0.027743094308035714, -...  \n",
              "3  [0.08058844672309028, 0.048272026909722224, 0....  \n",
              "4  [0.05062408447265625, 0.007540130615234375, 0....  "
            ],
            "text/html": [
              "\n",
              "  <div id=\"df-fc76ffad-11de-432b-833d-4843cc616ceb\">\n",
              "    <div class=\"colab-df-container\">\n",
              "      <div>\n",
              "<style scoped>\n",
              "    .dataframe tbody tr th:only-of-type {\n",
              "        vertical-align: middle;\n",
              "    }\n",
              "\n",
              "    .dataframe tbody tr th {\n",
              "        vertical-align: top;\n",
              "    }\n",
              "\n",
              "    .dataframe thead th {\n",
              "        text-align: right;\n",
              "    }\n",
              "</style>\n",
              "<table border=\"1\" class=\"dataframe\">\n",
              "  <thead>\n",
              "    <tr style=\"text-align: right;\">\n",
              "      <th></th>\n",
              "      <th>comment_text</th>\n",
              "      <th>toxic</th>\n",
              "      <th>tokens</th>\n",
              "      <th>vec</th>\n",
              "    </tr>\n",
              "  </thead>\n",
              "  <tbody>\n",
              "    <tr>\n",
              "      <th>0</th>\n",
              "      <td>Your knowledge of Hebrew? Thank god that Jossi...</td>\n",
              "      <td>0</td>\n",
              "      <td>[knowledge, hebrew, thank, god, jossi, speak, ...</td>\n",
              "      <td>[0.0632793719951923, -0.007477980393629808, 0....</td>\n",
              "    </tr>\n",
              "    <tr>\n",
              "      <th>1</th>\n",
              "      <td>==Tablighi Jamaat and allegations of terrorism...</td>\n",
              "      <td>0</td>\n",
              "      <td>[tablighi, jamaat, allegation, terrorism==, ad...</td>\n",
              "      <td>[-0.049352010091145836, -0.007761637369791667,...</td>\n",
              "    </tr>\n",
              "    <tr>\n",
              "      <th>2</th>\n",
              "      <td>\"\\nWell it's understandable not wanting the in...</td>\n",
              "      <td>0</td>\n",
              "      <td>[understandable, want, infobox, overfill, info...</td>\n",
              "      <td>[0.02009953090122768, -0.027743094308035714, -...</td>\n",
              "    </tr>\n",
              "    <tr>\n",
              "      <th>3</th>\n",
              "      <td>\"\\n\\n Please stop adding nonsense to Wikipedia...</td>\n",
              "      <td>0</td>\n",
              "      <td>[stop, add, nonsense, wikipedia, consider, van...</td>\n",
              "      <td>[0.08058844672309028, 0.048272026909722224, 0....</td>\n",
              "    </tr>\n",
              "    <tr>\n",
              "      <th>4</th>\n",
              "      <td>Saint Petersburg\\nPlease, leave the sister cit...</td>\n",
              "      <td>0</td>\n",
              "      <td>[saint, petersburg, leave, sister, city, ill, ...</td>\n",
              "      <td>[0.05062408447265625, 0.007540130615234375, 0....</td>\n",
              "    </tr>\n",
              "  </tbody>\n",
              "</table>\n",
              "</div>\n",
              "      <button class=\"colab-df-convert\" onclick=\"convertToInteractive('df-fc76ffad-11de-432b-833d-4843cc616ceb')\"\n",
              "              title=\"Convert this dataframe to an interactive table.\"\n",
              "              style=\"display:none;\">\n",
              "        \n",
              "  <svg xmlns=\"http://www.w3.org/2000/svg\" height=\"24px\"viewBox=\"0 0 24 24\"\n",
              "       width=\"24px\">\n",
              "    <path d=\"M0 0h24v24H0V0z\" fill=\"none\"/>\n",
              "    <path d=\"M18.56 5.44l.94 2.06.94-2.06 2.06-.94-2.06-.94-.94-2.06-.94 2.06-2.06.94zm-11 1L8.5 8.5l.94-2.06 2.06-.94-2.06-.94L8.5 2.5l-.94 2.06-2.06.94zm10 10l.94 2.06.94-2.06 2.06-.94-2.06-.94-.94-2.06-.94 2.06-2.06.94z\"/><path d=\"M17.41 7.96l-1.37-1.37c-.4-.4-.92-.59-1.43-.59-.52 0-1.04.2-1.43.59L10.3 9.45l-7.72 7.72c-.78.78-.78 2.05 0 2.83L4 21.41c.39.39.9.59 1.41.59.51 0 1.02-.2 1.41-.59l7.78-7.78 2.81-2.81c.8-.78.8-2.07 0-2.86zM5.41 20L4 18.59l7.72-7.72 1.47 1.35L5.41 20z\"/>\n",
              "  </svg>\n",
              "      </button>\n",
              "      \n",
              "  <style>\n",
              "    .colab-df-container {\n",
              "      display:flex;\n",
              "      flex-wrap:wrap;\n",
              "      gap: 12px;\n",
              "    }\n",
              "\n",
              "    .colab-df-convert {\n",
              "      background-color: #E8F0FE;\n",
              "      border: none;\n",
              "      border-radius: 50%;\n",
              "      cursor: pointer;\n",
              "      display: none;\n",
              "      fill: #1967D2;\n",
              "      height: 32px;\n",
              "      padding: 0 0 0 0;\n",
              "      width: 32px;\n",
              "    }\n",
              "\n",
              "    .colab-df-convert:hover {\n",
              "      background-color: #E2EBFA;\n",
              "      box-shadow: 0px 1px 2px rgba(60, 64, 67, 0.3), 0px 1px 3px 1px rgba(60, 64, 67, 0.15);\n",
              "      fill: #174EA6;\n",
              "    }\n",
              "\n",
              "    [theme=dark] .colab-df-convert {\n",
              "      background-color: #3B4455;\n",
              "      fill: #D2E3FC;\n",
              "    }\n",
              "\n",
              "    [theme=dark] .colab-df-convert:hover {\n",
              "      background-color: #434B5C;\n",
              "      box-shadow: 0px 1px 3px 1px rgba(0, 0, 0, 0.15);\n",
              "      filter: drop-shadow(0px 1px 2px rgba(0, 0, 0, 0.3));\n",
              "      fill: #FFFFFF;\n",
              "    }\n",
              "  </style>\n",
              "\n",
              "      <script>\n",
              "        const buttonEl =\n",
              "          document.querySelector('#df-fc76ffad-11de-432b-833d-4843cc616ceb button.colab-df-convert');\n",
              "        buttonEl.style.display =\n",
              "          google.colab.kernel.accessAllowed ? 'block' : 'none';\n",
              "\n",
              "        async function convertToInteractive(key) {\n",
              "          const element = document.querySelector('#df-fc76ffad-11de-432b-833d-4843cc616ceb');\n",
              "          const dataTable =\n",
              "            await google.colab.kernel.invokeFunction('convertToInteractive',\n",
              "                                                     [key], {});\n",
              "          if (!dataTable) return;\n",
              "\n",
              "          const docLinkHtml = 'Like what you see? Visit the ' +\n",
              "            '<a target=\"_blank\" href=https://colab.research.google.com/notebooks/data_table.ipynb>data table notebook</a>'\n",
              "            + ' to learn more about interactive tables.';\n",
              "          element.innerHTML = '';\n",
              "          dataTable['output_type'] = 'display_data';\n",
              "          await google.colab.output.renderOutput(dataTable, element);\n",
              "          const docLink = document.createElement('div');\n",
              "          docLink.innerHTML = docLinkHtml;\n",
              "          element.appendChild(docLink);\n",
              "        }\n",
              "      </script>\n",
              "    </div>\n",
              "  </div>\n",
              "  "
            ]
          },
          "metadata": {},
          "execution_count": 38
        }
      ]
    },
    {
      "cell_type": "code",
      "source": [
        "X = data['vec'].to_list()\n",
        "y = data['toxic'].to_list()"
      ],
      "metadata": {
        "id": "6ZLvbyAUe2RQ"
      },
      "execution_count": null,
      "outputs": []
    },
    {
      "cell_type": "code",
      "source": [
        "X[0]"
      ],
      "metadata": {
        "id": "M2MvztRqfCGg"
      },
      "execution_count": null,
      "outputs": []
    },
    {
      "cell_type": "code",
      "source": [
        "from sklearn.model_selection import train_test_split\n",
        "X_train, X_test, y_train, y_test = train_test_split(X, y, test_size=0.2,stratify=y)"
      ],
      "metadata": {
        "id": "hJisSzFafD1I"
      },
      "execution_count": null,
      "outputs": []
    },
    {
      "cell_type": "code",
      "source": [
        "from sklearn.linear_model import LogisticRegression\n",
        "classifier = LogisticRegression()"
      ],
      "metadata": {
        "id": "yYFiyvbIfMmn"
      },
      "execution_count": null,
      "outputs": []
    },
    {
      "cell_type": "code",
      "source": [
        "classifier.fit(X_train,y_train)"
      ],
      "metadata": {
        "colab": {
          "base_uri": "https://localhost:8080/"
        },
        "id": "PlvKwoWGfX5A",
        "outputId": "a0518549-e934-424a-99fa-656328f58782"
      },
      "execution_count": null,
      "outputs": [
        {
          "output_type": "execute_result",
          "data": {
            "text/plain": [
              "LogisticRegression()"
            ]
          },
          "metadata": {},
          "execution_count": 43
        }
      ]
    },
    {
      "cell_type": "code",
      "source": [
        "from sklearn import metrics\n",
        "predicted = classifier.predict(X_test)\n",
        "print(\"Logistic Regression Accuracy:\",metrics.accuracy_score(y_test, predicted))\n",
        "print(\"Logistic Regression Precision:\",metrics.precision_score(y_test, predicted))\n",
        "print(\"Logistic Regression Recall:\",metrics.recall_score(y_test, predicted))"
      ],
      "metadata": {
        "colab": {
          "base_uri": "https://localhost:8080/"
        },
        "id": "Jel4lRCkfaz_",
        "outputId": "b358933c-7207-4d11-dfe8-49d3534c3cc8"
      },
      "execution_count": null,
      "outputs": [
        {
          "output_type": "stream",
          "name": "stdout",
          "text": [
            "Logistic Regression Accuracy: 0.88\n",
            "Logistic Regression Precision: 0.8958333333333334\n",
            "Logistic Regression Recall: 0.86\n"
          ]
        }
      ]
    },
    {
      "cell_type": "code",
      "source": [],
      "metadata": {
        "id": "VygTwri1amL0"
      },
      "execution_count": null,
      "outputs": []
    }
  ],
  "metadata": {
    "kernelspec": {
      "display_name": "Python 3",
      "name": "python3"
    },
    "language_info": {
      "codemirror_mode": {
        "name": "ipython",
        "version": 3
      },
      "file_extension": ".py",
      "mimetype": "text/x-python",
      "name": "python",
      "nbconvert_exporter": "python",
      "pygments_lexer": "ipython3",
      "version": "3.9.10"
    },
    "vscode": {
      "interpreter": {
        "hash": "3aee63c9909931f8570ab0af8ed7fb48514b1bc692251c446ac030d3ef29d031"
      }
    },
    "colab": {
      "provenance": [],
      "gpuType": "T4",
      "include_colab_link": true
    },
    "accelerator": "GPU"
  },
  "nbformat": 4,
  "nbformat_minor": 0
}